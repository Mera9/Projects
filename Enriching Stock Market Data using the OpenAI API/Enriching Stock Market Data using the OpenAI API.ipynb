{
 "cells": [
  {
   "cell_type": "markdown",
   "id": "c36c709e-8395-48d2-8a18-918cd2df89a9",
   "metadata": {},
   "source": [
    "## Enriching stock market data using Open AI API \n",
    "\n",
    "![nasdaq100](nasdaq100.png)\n",
    "\n",
    "The Nasdaq-100 is a stock market index made up of 101 equity securities issued by 100 of the largest non-financial companies listed on the Nasdaq stock exchange. It helps investors compare stock prices with previous prices to determine market performance.\n",
    "\n",
    "In this project you are provided with two CSV files containing Nasdaq-100 stock information:\n",
    "- _**nasdaq100.csv**_: contains information about companies in the index such as symbol, name, etc.\n",
    "- _**nasdaq100_price_change.csv**_: contains price changes per stock across periods including (but not limited to) one day, five days, one month, six months, one year, etc.\n",
    "\n",
    "As an AI developer, you will leverage the OpenAI API to classify companies into sectors and produce a summary of sector and company performance for this year.\n",
    "\n",
    "_**Project Instructions**_:\n",
    "\n",
    "- Create a pandas DataFrame called nasdaq100 containing the nasdaq100.csv file and add a column called \"ytd\" containing year to date (YTD) performance for each company.\n",
    "\n",
    "- Use the OpenAI API to classify each stock into a sector, saving as a new column in the nasdaq100 DataFrame called \"sector\" with the following values: Technology, Consumer Cyclical, Industrials, Utilities, Healthcare, Communication, Energy, Consumer Defensive, Real Estate, or Financial.\n",
    "\n",
    "- Use the OpenAI API to provide summary information about Nasdaq-100 stock performance YTD, recommending the three best sectors and three or more companies per sector, storing as a variable called stock_recommendations."
   ]
  },
  {
   "cell_type": "markdown",
   "id": "dbf0fd36-39e0-4aab-9f68-b2ea0911eb1b",
   "metadata": {},
   "source": [
    "# CSV with Nasdaq-100 stock data\n",
    "\n",
    "In this project, you have available two CSV files `nasdaq100.csv` and `nasdaq100_price_change.csv`.\n",
    "\n",
    "## nasdaq100.csv\n",
    "\n",
    "```py\n",
    "symbol,name,headQuarter,dateFirstAdded,cik,founded\n",
    "AAPL,Apple Inc.,\"Cupertino, CA\",,0000320193,1976-04-01\n",
    "ABNB,Airbnb,\"San Francisco, CA\",,0001559720,2008-08-01\n",
    "ADBE,Adobe Inc.,\"San Jose, CA\",,0000796343,1982-12-01\n",
    "ADI,Analog Devices,\"Wilmington, MA\",,0000006281,1965-01-01\n",
    "...\n",
    "```\n",
    "\n",
    "## nasdaq100_price_change.csv\n",
    "\n",
    "```py\n",
    "symbol,1D,5D,1M,3M,6M,ytd,1Y,3Y,5Y,10Y,max\n",
    "AAPL,-1.7254,-8.30086,-6.20411,3.042,15.64824,42.99992,8.47941,60.96299,245.42031,976.99441,139245.53954\n",
    "ABNB,2.1617,-2.21919,9.88336,19.43286,19.64241,68.66902,23.64013,-1.04347,-1.04347,-1.04347,-1.04347\n",
    "ADBE,0.5409,-1.77817,9.16191,52.0465,38.01522,57.22723,21.96206,17.83037,109.05718,1024.69214,251030.66399\n",
    "ADI,0.9291,-4.03352,2.58486,3.65887,5.01602,17.02062,8.09735,63.42847,92.81874,286.77518,26012.63736\n",
    "...\n",
    "```"
   ]
  },
  {
   "cell_type": "code",
   "execution_count": 10,
   "id": "8fb27b8e-8042-4dcc-96d4-74be34acc100",
   "metadata": {
    "chartConfig": {
     "bar": {
      "hasRoundedCorners": true,
      "stacked": false
     },
     "type": "bar",
     "version": "v1"
    },
    "executionCancelledAt": null,
    "executionTime": 54029,
    "lastExecutedAt": 1707833879419,
    "lastScheduledRunId": null,
    "lastSuccessfullyExecutedCode": "import os\nimport pandas as pd\nimport openai\n\n# Initialize your API key\nopenai.api_key = os.environ[\"OPENAI\"]\n\n# Read in the two datasets\nnasdaq100 = pd.read_csv(\"nasdaq100.csv\")\nprice_change = pd.read_csv(\"nasdaq100_price_change.csv\")\n\n# Add symbol into nasdaq100\nnasdaq100 = nasdaq100.merge(price_change[[\"symbol\", \"ytd\"]], on=\"symbol\", how=\"inner\")\n\n# Preview the combined dataset\nnasdaq100.head()\n\n# Loop through the NASDAQ companies\nfor company in nasdaq100[\"symbol\"]:\n    # Create a prompt to enrich nasdaq100 using OpenAI\n    prompt = f'''Classify company {company} into one of the following sectors. Answer only with the sector name: Technology, Consumer Cyclical, Industrials, Utilities, Healthcare, Communication, Energy, Consumer Defensive, Real Estate, Financial.'''\n    # Create a response from ChatGPT\n    response = openai.ChatCompletion.create(\n        model=\"gpt-3.5-turbo\",\n        messages=[{\"role\": \"user\", \"content\": prompt}],\n        temperature=0.0,\n    )\n    # Store the output as a variable called sector\n    sector = response['choices'][0]['message']['content']\n    \n    # Add the sector for the corresponding company\n    nasdaq100.loc[nasdaq100[\"symbol\"] == company, \"Sector\"] = sector\n    \n# Count the number of sectors\nnasdaq100[\"Sector\"].value_counts()\n\n# Prompt to get stock recommendations\nprompt = f'''Provide summary information about Nasdaq-100 stock performance year to date (YTD), recommending the three best sectors and three or more companies per sector.'''\n\n# Get the model response\nresponse = openai.ChatCompletion.create(\n    model=\"gpt-3.5-turbo\",\n    messages=[{\"role\": \"user\", \"content\": prompt}],\n    temperature=0.0,\n)\n\n# Store the output as a variable and print the recommendations\nstock_recommendations = response['choices'][0]['message']['content']\nprint(stock_recommendations)\n\n",
    "outputsMetadata": {
     "0": {
      "height": 577,
      "type": "stream"
     }
    },
    "visualizeDataframe": false
   },
   "outputs": [
    {
     "name": "stdout",
     "output_type": "stream",
     "text": [
      "As an AI language model, I don't have real-time data. However, I can provide you with a general overview of the Nasdaq-100 stock performance year to date (YTD) based on historical trends. Please note that this information may not reflect the current market conditions. It's always recommended to consult up-to-date financial sources for the most accurate information.\n",
      "\n",
      "The Nasdaq-100 index represents the performance of the top 100 non-financial companies listed on the Nasdaq stock exchange. Here are three sectors that have historically performed well:\n",
      "\n",
      "1. Technology Sector:\n",
      "   - Apple Inc. (AAPL): A multinational technology company known for its iPhones, iPads, and Mac computers.\n",
      "   - Microsoft Corporation (MSFT): A leading software and cloud services provider.\n",
      "   - Amazon.com Inc. (AMZN): A global e-commerce and cloud computing company.\n",
      "\n",
      "2. Healthcare Sector:\n",
      "   - Moderna Inc. (MRNA): A biotechnology company focused on developing vaccines and therapeutics.\n",
      "   - Regeneron Pharmaceuticals Inc. (REGN): A biopharmaceutical company specializing in treatments for serious medical conditions.\n",
      "   - Vertex Pharmaceuticals Incorporated (VRTX): A biotechnology company focused on developing therapies for cystic fibrosis and other diseases.\n",
      "\n",
      "3. Consumer Discretionary Sector:\n",
      "   - Tesla Inc. (TSLA): An electric vehicle and clean energy company.\n",
      "   - Amazon.com Inc. (AMZN): As mentioned earlier, Amazon is not only a technology giant but also a major player in the consumer discretionary sector.\n",
      "   - Netflix Inc. (NFLX): A leading streaming entertainment service provider.\n",
      "\n",
      "Please note that the performance of sectors and companies can vary over time, and it's essential to conduct thorough research and analysis before making any investment decisions.\n"
     ]
    }
   ],
   "source": [
    "import os\n",
    "import pandas as pd\n",
    "import openai\n",
    "\n",
    "# Initialize your API key\n",
    "openai.api_key = os.environ[\"OPENAI\"]\n",
    "\n",
    "# Read in the two datasets\n",
    "nasdaq100 = pd.read_csv(\"nasdaq100.csv\")\n",
    "price_change = pd.read_csv(\"nasdaq100_price_change.csv\")\n",
    "\n",
    "# Add symbol into nasdaq100\n",
    "nasdaq100 = nasdaq100.merge(price_change[[\"symbol\", \"ytd\"]], on=\"symbol\", how=\"inner\")\n",
    "\n",
    "# Preview the combined dataset\n",
    "nasdaq100.head()\n",
    "\n",
    "# Loop through the NASDAQ companies\n",
    "for company in nasdaq100[\"symbol\"]:\n",
    "    # Create a prompt to enrich nasdaq100 using OpenAI\n",
    "    prompt = f'''Classify company {company} into one of the following sectors. Answer only with the sector name: Technology, Consumer Cyclical, Industrials, Utilities, Healthcare, Communication, Energy, Consumer Defensive, Real Estate, Financial.'''\n",
    "    # Create a response from ChatGPT\n",
    "    response = openai.ChatCompletion.create(\n",
    "        model=\"gpt-3.5-turbo\",\n",
    "        messages=[{\"role\": \"user\", \"content\": prompt}],\n",
    "        temperature=0.0,\n",
    "    )\n",
    "    # Store the output as a variable called sector\n",
    "    sector = response['choices'][0]['message']['content']\n",
    "    \n",
    "    # Add the sector for the corresponding company\n",
    "    nasdaq100.loc[nasdaq100[\"symbol\"] == company, \"Sector\"] = sector\n",
    "    \n",
    "# Count the number of sectors\n",
    "nasdaq100[\"Sector\"].value_counts()\n",
    "\n",
    "# Prompt to get stock recommendations\n",
    "prompt = f'''Provide summary information about Nasdaq-100 stock performance year to date (YTD), recommending the three best sectors and three or more companies per sector.'''\n",
    "\n",
    "# Get the model response\n",
    "response = openai.ChatCompletion.create(\n",
    "    model=\"gpt-3.5-turbo\",\n",
    "    messages=[{\"role\": \"user\", \"content\": prompt}],\n",
    "    temperature=0.0,\n",
    ")\n",
    "\n",
    "# Store the output as a variable and print the recommendations\n",
    "stock_recommendations = response['choices'][0]['message']['content']\n",
    "print(stock_recommendations)\n",
    "\n"
   ]
  }
 ],
 "metadata": {
  "colab": {
   "name": "Welcome to DataCamp Workspaces.ipynb",
   "provenance": []
  },
  "kernelspec": {
   "display_name": "Python 3 (ipykernel)",
   "language": "python",
   "name": "python3"
  },
  "language_info": {
   "codemirror_mode": {
    "name": "ipython",
    "version": 3
   },
   "file_extension": ".py",
   "mimetype": "text/x-python",
   "name": "python",
   "nbconvert_exporter": "python",
   "pygments_lexer": "ipython3",
   "version": "3.11.5"
  }
 },
 "nbformat": 4,
 "nbformat_minor": 5
}
