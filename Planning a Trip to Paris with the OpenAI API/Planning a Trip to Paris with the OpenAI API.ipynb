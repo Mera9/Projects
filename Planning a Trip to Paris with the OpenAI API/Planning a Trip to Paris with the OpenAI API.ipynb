{
 "cells": [
  {
   "cell_type": "markdown",
   "id": "17000260-fe07-4f92-abb4-3d325226eb1f",
   "metadata": {},
   "source": [
    "![eiffel-tower](eiffel-tower.png)\n",
    "\n",
    "As a distinguished AI Developer, you've been selected by Peterman Reality Tours, an internationally acclaimed tourism company, to undertake an influential project. This project requires you to harness the potential of OpenAI's API, specifically using its state-of-the-art language model, GPT-3.5 Turbo, to create an AI-powered travel guide for the culturally rich city of Paris.\n",
    "\n",
    "Your creation will become a virtual Parisian expert, delivering valuable insights into the city's iconic landmarks and hidden treasures. The AI will respond intelligently to a set of common questions, providing a more engaging and immersive travel planning experience for the clientele of Peterman Reality Tours.\n",
    "\n",
    "The ultimate aspiration is a user-friendly, AI-driven travel guide that significantly enhances the exploration of Paris. This project will not only improve Peterman Reality Tours' customer service, but also solidify their place at the forefront of AI-enhanced innovation in the global tourism industry. Users will be able to pre-define their questions and receive well-informed answers from the AI, making the travel planning process seamless and intuitive.\n",
    "\n",
    "They have proposed the following tasks:\n",
    "\n",
    "Create a model variable to use OpenAI's 'gpt-3.5-turbo' model, to find answers to the following questions:\n",
    "\n",
    "How far away is the Louvre from the Eiffel Tower (in miles) if you are driving?\n",
    "Where is the Arc de Triomphe?\n",
    "What are the must-see artworks at the Louvre Museum?\n",
    "\n",
    "Limit the maximum number of tokens to 100 so that the model's responses are concise, and set temperature to 0.0.\n",
    "\n",
    "Store the questions and the responses in a list called conversation. Each item in the list should be a dictionary with two keys: role and content. The role key should have one of three values: 'system', 'user', or 'assistant'. The role in the first dictionary of conversation should be 'system'. The content key should have a string value representing a dialogue related to the assigned role.\n",
    "\n",
    "Print each generated response to the console as it is produced for users to read."
   ]
  },
  {
   "cell_type": "code",
   "execution_count": 5,
   "id": "af542964-72bd-404b-8689-0ddf2cec72b9",
   "metadata": {
    "executionCancelledAt": null,
    "executionTime": null,
    "lastExecutedAt": null,
    "lastScheduledRunId": null,
    "lastSuccessfullyExecutedCode": null,
    "outputsMetadata": {
     "0": {
      "height": 377,
      "type": "stream"
     }
    }
   },
   "outputs": [
    {
     "name": "stdout",
     "output_type": "stream",
     "text": [
      "User: How far away is the Louvre from the Eiffel Tower (in miles) if you are driving?\n",
      "Assistant: The Louvre Museum and the Eiffel Tower are approximately 2.5 miles apart if you are driving.\n",
      "\n",
      "User: Where is the Arc de Triomphe?\n",
      "Assistant: The Arc de Triomphe is located at the western end of the Champs-Élysées, in the 8th arrondissement of Paris, France.\n",
      "\n",
      "User: What are the must-see artworks at the Louvre Museum?\n",
      "Assistant: The Louvre Museum is home to an extensive collection of artworks, but here are some must-see pieces:\n",
      "\n",
      "1. Mona Lisa by Leonardo da Vinci: One of the most famous paintings in the world, located in the Denon Wing, 1st floor, Room 6.\n",
      "\n",
      "2. Venus de Milo: A renowned ancient Greek statue of the goddess Aphrodite, located in the Sully Wing, ground floor, Room 7.\n",
      "\n",
      "3. Winged Victory of Samothrace: A\n",
      "\n"
     ]
    }
   ],
   "source": [
    "import os\n",
    "import openai\n",
    "openai.api_key = os.environ[\"OPENAI\"]\n",
    "\n",
    "# Step 1: Defining the model\n",
    "model = \"gpt-3.5-turbo\"\n",
    "\n",
    "# Step 2: Defining the conversation\n",
    "conversation = [\n",
    "    {\"role\": \"system\", \"content\": \"You are a helpful assistant providing information about landmarks in Paris.\"}\n",
    "]\n",
    "\n",
    "# Step 3: Creating a list of questions\n",
    "questions = [\n",
    "    \"How far away is the Louvre from the Eiffel Tower (in miles) if you are driving?\",\n",
    "    \"Where is the Arc de Triomphe?\",\n",
    "    \"What are the must-see artworks at the Louvre Museum?\"\n",
    "]\n",
    "\n",
    "# Step 4: Creating a conversation loop\n",
    "for question in questions:\n",
    "    # Add user question to conversation\n",
    "    conversation.append({\"role\": \"user\", \"content\": question})\n",
    "    \n",
    "    # Generate response from the model\n",
    "    response = openai.ChatCompletion.create(\n",
    "        model=model,\n",
    "        messages=conversation,\n",
    "        max_tokens=100,\n",
    "        temperature=0.0\n",
    "    )\n",
    "    \n",
    "    # Extract and print the assistant's response\n",
    "    assistant_response = response.choices[0].message['content']\n",
    "    print(f\"User: {question}\")\n",
    "    print(f\"Assistant: {assistant_response}\\n\")\n",
    "    \n",
    "    # Add assistant response to conversation for the next iteration\n",
    "    conversation.append({\"role\": \"assistant\", \"content\": assistant_response})"
   ]
  }
 ],
 "metadata": {
  "colab": {
   "name": "Welcome to DataCamp Workspaces.ipynb",
   "provenance": []
  },
  "kernelspec": {
   "display_name": "Python 3 (ipykernel)",
   "language": "python",
   "name": "python3"
  },
  "language_info": {
   "codemirror_mode": {
    "name": "ipython",
    "version": 3
   },
   "file_extension": ".py",
   "mimetype": "text/x-python",
   "name": "python",
   "nbconvert_exporter": "python",
   "pygments_lexer": "ipython3",
   "version": "3.11.5"
  }
 },
 "nbformat": 4,
 "nbformat_minor": 5
}
